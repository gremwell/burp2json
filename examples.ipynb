{
 "cells": [
  {
   "cell_type": "code",
   "execution_count": 8,
   "id": "3f08e7b7-8a3b-442a-9f52-66adb8c37208",
   "metadata": {
    "tags": []
   },
   "outputs": [],
   "source": [
    "import burp2json\n",
    "import requests"
   ]
  },
  {
   "cell_type": "code",
   "execution_count": 2,
   "id": "d822f6f7-d68b-488f-835e-b661f229a33a",
   "metadata": {
    "tags": []
   },
   "outputs": [],
   "source": [
    "# Read request templates from file\n",
    "b2j = burp2json.Burp2Json(\"sample.json\")"
   ]
  },
  {
   "cell_type": "code",
   "execution_count": 5,
   "id": "e08840cb-891c-4c35-b495-83426a8d61b2",
   "metadata": {
    "tags": []
   },
   "outputs": [
    {
     "name": "stdout",
     "output_type": "stream",
     "text": [
      "Running all requests, don't expect any output\n"
     ]
    }
   ],
   "source": [
    "# Most simple use case - run all requests without modification\n",
    "# Don't use proxies, and don't do anything with responses\n",
    "print(\"Running all requests, don't expect any output\")\n",
    "b2j.do_all(prefix=\"http://127.0.0.1:5000\")"
   ]
  },
  {
   "cell_type": "code",
   "execution_count": 6,
   "id": "656aca5f-6e0d-48a5-b227-6c4ed938984f",
   "metadata": {
    "tags": []
   },
   "outputs": [
    {
     "name": "stdout",
     "output_type": "stream",
     "text": [
      "Running all requests, now with CSV output\n",
      "get item,GET,/api/item/1,200\n",
      "get all items,GET,/api/items,200\n",
      "add item,POST,/api/items,200\n",
      "search,GET,/api/search,200\n",
      "upload,POST,/api/upload,200\n"
     ]
    }
   ],
   "source": [
    "# Now let's suppose we want to do something with responses, such as look at the response codes\n",
    "# We will pass this function to do_all to print results in CSV format\n",
    "def handle_response(req, resp) :\n",
    "    print(\"{},{},{},{}\".format(req[\"comment\"], req[\"method\"], req[\"path\"], resp.status_code))\n",
    "\n",
    "# Now let's run all requests and print results\n",
    "print(\"Running all requests, now with CSV output\")\n",
    "b2j.do_all(prefix=\"http://127.0.0.1:5000\", handle_response=handle_response)"
   ]
  },
  {
   "cell_type": "code",
   "execution_count": 9,
   "id": "c4cf6095-3b78-4da3-81dc-453565ad5666",
   "metadata": {
    "tags": []
   },
   "outputs": [
    {
     "name": "stdout",
     "output_type": "stream",
     "text": [
      "Running all requests through Burp, expecting it to listen on 127.0.0.1:8080\n",
      "get item,GET,/api/item/1,200\n",
      "get all items,GET,/api/items,200\n",
      "add item,POST,/api/items,200\n",
      "search,GET,/api/search,200\n",
      "upload,POST,/api/upload,200\n"
     ]
    }
   ],
   "source": [
    "# We can also run our requests through Burp, so we set proxy configuration\n",
    "proxies = {\n",
    "        'http': 'http://127.0.0.1:8080',\n",
    "        'https': 'http://127.0.0.1:8080',\n",
    "}\n",
    "session = requests.Session()\n",
    "session.proxies.update(proxies)\n",
    "print(\"Running all requests through Burp, expecting it to listen on 127.0.0.1:8080\")\n",
    "b2j.do_all(prefix=\"http://127.0.0.1:5000\", handle_response=handle_response, session=session)"
   ]
  },
  {
   "cell_type": "code",
   "execution_count": 10,
   "id": "65818eaa-8ea6-495c-90fd-2e4109f0471d",
   "metadata": {
    "tags": []
   },
   "outputs": [
    {
     "name": "stdout",
     "output_type": "stream",
     "text": [
      "Creating a new item\n",
      "Got response: stus coce 200, content {'bob': '20'}\n",
      "Calling search\n",
      "Got response code: 200\n",
      "Got response body: {'11': {'bob': '20'}}\n",
      "Now will get item ids from body and request items one by one\n",
      "Got item 11 : {'bob': '20'}\n"
     ]
    }
   ],
   "source": [
    "b2j = burp2json.Burp2Json(\"parameterized.json\")\n",
    "create = b2j.request_by_comment(\"add item\")\n",
    "\n",
    "print(\"Creating a new item\")\n",
    "resp = b2j.do_request(create, prefix=\"http://127.0.0.1:5000\", session=session, json_params={\"name\":\"bob\", \"value\":\"20\"})\n",
    "print(\"Got response: stus coce {}, content {}\".format(resp.status_code, resp.json()))\n",
    "\n",
    "search = b2j.request_by_path(\"GET\",\"/api/search\")\n",
    "\n",
    "print(\"Calling search\")\n",
    "resp = b2j.do_request(search, prefix=\"http://127.0.0.1:5000\", session=session, get_params={\"text\":\"20\"})\n",
    "print(\"Got response code: {}\".format(resp.status_code))\n",
    "if(resp.status_code == 200) :\n",
    "    j = resp.json()\n",
    "    print(\"Got response body: {}\".format(j))\n",
    "    print(\"Now will get item ids from body and request items one by one\")\n",
    "    get_item = b2j.request_by_comment(\"get item\")\n",
    "    for id in j.keys() :\n",
    "        r = b2j.do_request(get_item, prefix=\"http://127.0.0.1:5000\",  session=session, path_params={\"id\":id})\n",
    "        print(\"Got item {} : {}\".format(id, r.json()))"
   ]
  },
  {
   "cell_type": "code",
   "execution_count": null,
   "id": "2c92e0f9-9b5e-4070-9e3d-cebfe0f82eed",
   "metadata": {},
   "outputs": [],
   "source": []
  }
 ],
 "metadata": {
  "kernelspec": {
   "display_name": "Python 3 (ipykernel)",
   "language": "python",
   "name": "python3"
  },
  "language_info": {
   "codemirror_mode": {
    "name": "ipython",
    "version": 3
   },
   "file_extension": ".py",
   "mimetype": "text/x-python",
   "name": "python",
   "nbconvert_exporter": "python",
   "pygments_lexer": "ipython3",
   "version": "3.10.13"
  }
 },
 "nbformat": 4,
 "nbformat_minor": 5
}
